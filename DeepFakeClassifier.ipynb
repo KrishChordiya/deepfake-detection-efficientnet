{
  "cells": [
    {
      "cell_type": "code",
      "execution_count": null,
      "metadata": {},
      "outputs": [],
      "source": [
        "import os\n",
        "import zipfile\n",
        "import pandas as pd\n",
        "import numpy as np\n",
        "import cv2\n",
        "import torch\n",
        "import torch.nn as nn\n",
        "import torch.optim as optim\n",
        "from torch.utils.data import Dataset, DataLoader\n",
        "from torchvision.models import efficientnet_b0, EfficientNet_B0_Weights\n",
        "from sklearn.model_selection import train_test_split\n",
        "from skimage.feature import local_binary_pattern\n",
        "import matplotlib.pyplot as plt\n",
        "import copy\n",
        "from tqdm import tqdm"
      ]
    },
    {
      "cell_type": "markdown",
      "metadata": {},
      "source": [
        "# 1.Configuration"
      ]
    },
    {
      "cell_type": "code",
      "execution_count": null,
      "metadata": {},
      "outputs": [],
      "source": [
        "# All major settings are here for easy modification\n",
        "DATA_DIR = \"content\"\n",
        "ZIP_FILE = os.path.join(DATA_DIR, 'faces_224.zip')\n",
        "METADATA_FILE = os.path.join(DATA_DIR, 'metadata.csv')\n",
        "IMAGE_DIR = os.path.join(DATA_DIR, 'faces_224')\n",
        "MODEL_SAVE_PATH = \"deepfake_detector_dual_branch.pth\"\n",
        "\n",
        "# Model and training settings\n",
        "IMG_SIZE = 224\n",
        "HANDCRAFTED_FEATURE_DIM = 262\n",
        "BATCH_SIZE = 32\n",
        "LEARNING_RATE_HEAD = 1e-3\n",
        "LEARNING_RATE_FT = 1e-5\n",
        "EPOCHS_HEAD = 10\n",
        "EPOCHS_FT = 15\n",
        "PATIENCE = 3"
      ]
    },
    {
      "cell_type": "markdown",
      "metadata": {},
      "source": [
        "# 2. Data Preparation"
      ]
    },
    {
      "cell_type": "code",
      "execution_count": 15,
      "metadata": {},
      "outputs": [
        {
          "name": "stdout",
          "output_type": "stream",
          "text": [
            "Image directory already exists.\n"
          ]
        }
      ],
      "source": [
        "if not os.path.exists(IMAGE_DIR):\n",
        "    print(\"Unzipping dataset...\")\n",
        "    with zipfile.ZipFile(ZIP_FILE, 'r') as zip_ref:\n",
        "        zip_ref.extractall(DATA_DIR)\n",
        "    print(\"Unzipping complete.\")\n",
        "else:\n",
        "    print(\"Image directory already exists.\")"
      ]
    },
    {
      "cell_type": "markdown",
      "metadata": {},
      "source": [
        "# 3. Handcrafted Feature Extractor"
      ]
    },
    {
      "cell_type": "code",
      "execution_count": 16,
      "metadata": {},
      "outputs": [],
      "source": [
        "def extract_features(image: np.ndarray) -> np.ndarray:\n",
        "    \"\"\"\n",
        "    Extracts a fixed-size vector of 262 handcrafted features from an image.\n",
        "    These features provide explicit information about color, texture, and edges.\n",
        "    \"\"\"\n",
        "    # Ensure image is in 8-bit format for OpenCV functions\n",
        "    if image.dtype != np.uint8:\n",
        "        image = (image * 255).astype(np.uint8)\n",
        "\n",
        "    # 1. Color Histogram (3x6x6 = 216 features)\n",
        "    hist = cv2.calcHist([image], [0, 1, 2], None, [6, 6, 6], [0, 256, 0, 256, 0, 256])\n",
        "    cv2.normalize(hist, hist)\n",
        "    color_hist = hist.flatten()\n",
        "\n",
        "    # Convert to grayscale for texture and edge features\n",
        "    gray = cv2.cvtColor(image, cv2.COLOR_BGR2GRAY)\n",
        "\n",
        "    # 2. Edge Features (16 features)\n",
        "    edges = cv2.Canny(gray, 100, 200)\n",
        "    edge_hist = cv2.calcHist([edges], [0], None, [16], [0, 256])\n",
        "    cv2.normalize(edge_hist, edge_hist)\n",
        "    edge_hist = edge_hist.flatten()\n",
        "\n",
        "    # 3. LBP Texture Features (10 features)\n",
        "    lbp = local_binary_pattern(gray, P=8, R=1, method=\"uniform\")\n",
        "    lbp_hist, _ = np.histogram(lbp.ravel(), bins=np.arange(0, 11), range=(0, 10))\n",
        "    lbp_hist = lbp_hist.astype(np.float32)\n",
        "    lbp_hist /= (lbp_hist.sum() + 1e-6) # Normalize\n",
        "\n",
        "    # 4. Statistical Features (20 features)\n",
        "    mean, std_dev = cv2.meanStdDev(gray)\n",
        "    stat_features = [np.mean(gray), np.std(gray), np.median(gray), np.percentile(gray, 25), np.percentile(gray, 75)]\n",
        "    h = gray.shape[0]\n",
        "    regions = [gray[:h//3], gray[h//3:2*h//3], gray[2*h//3:]]\n",
        "    for region in regions:\n",
        "        stat_features.extend([np.mean(region), np.std(region), np.median(region), np.percentile(region, 25), np.percentile(region, 75)])\n",
        "    stat_features = np.array(stat_features, dtype=np.float32)\n",
        "\n",
        "    # Combine all features into a single vector\n",
        "    return np.concatenate([color_hist, edge_hist, lbp_hist, stat_features])"
      ]
    },
    {
      "cell_type": "markdown",
      "metadata": {},
      "source": [
        "# 4. Dual-Branch Model"
      ]
    },
    {
      "cell_type": "code",
      "execution_count": 17,
      "metadata": {},
      "outputs": [],
      "source": [
        "class DualBranchEfficientNet(nn.Module):\n",
        "    def __init__(self, feature_dim=HANDCRAFTED_FEATURE_DIM, pretrained=True):\n",
        "        super().__init__()\n",
        "        # --- Image Branch Backbone ---\n",
        "        weights = EfficientNet_B0_Weights.DEFAULT if pretrained else None\n",
        "        backbone = efficientnet_b0(weights=weights)\n",
        "        self.cnn = backbone.features\n",
        "        num_cnn_features = backbone.classifier[1].in_features  # 1280 for B0\n",
        "\n",
        "        # Freeze the CNN backbone initially for transfer learning\n",
        "        if pretrained:\n",
        "            for param in self.cnn.parameters():\n",
        "                param.requires_grad = False\n",
        "\n",
        "        # --- Image Branch Head ---\n",
        "        # Processes features extracted by the CNN\n",
        "        self.img_fc = nn.Sequential(\n",
        "            nn.AdaptiveAvgPool2d(1),\n",
        "            nn.Flatten(),\n",
        "            nn.BatchNorm1d(num_cnn_features),\n",
        "            nn.Linear(num_cnn_features, 512),\n",
        "            nn.ReLU(),\n",
        "            nn.Dropout(0.4)\n",
        "        )\n",
        "\n",
        "        # --- Handcrafted Feature Branch ---\n",
        "        # Processes the manually extracted feature vector\n",
        "        self.feat_fc = nn.Sequential(\n",
        "            nn.BatchNorm1d(feature_dim),\n",
        "            nn.Linear(feature_dim, 256),\n",
        "            nn.ReLU(),\n",
        "            nn.Dropout(0.4),\n",
        "            nn.Linear(256, 128),\n",
        "            nn.ReLU(),\n",
        "            nn.Dropout(0.3)\n",
        "        )\n",
        "\n",
        "        # --- Combined Classifier ---\n",
        "        # Fuses information from both branches for the final decision\n",
        "        self.classifier = nn.Sequential(\n",
        "            nn.Linear(512 + 128, 256),\n",
        "            nn.ReLU(),\n",
        "            nn.BatchNorm1d(256),\n",
        "            nn.Dropout(0.5),\n",
        "            nn.Linear(256, 1),\n",
        "            nn.Sigmoid()\n",
        "        )\n",
        "\n",
        "    def forward(self, image, features):\n",
        "        # Process image through CNN branch\n",
        "        x = self.cnn(image)\n",
        "        x = self.img_fc(x)\n",
        "\n",
        "        # Process handcrafted features through its branch\n",
        "        y = self.feat_fc(features)\n",
        "\n",
        "        # Combine the outputs and classify\n",
        "        combined = torch.cat((x, y), dim=1)\n",
        "        out = self.classifier(combined)\n",
        "        return out"
      ]
    },
    {
      "cell_type": "markdown",
      "metadata": {},
      "source": [
        "# 5. Dataset"
      ]
    },
    {
      "cell_type": "code",
      "execution_count": 19,
      "metadata": {},
      "outputs": [],
      "source": [
        "class DeepFakeDataset(Dataset):\n",
        "    def __init__(self, dataframe, image_dir):\n",
        "        self.dataframe = dataframe\n",
        "        self.image_dir = image_dir\n",
        "\n",
        "    def __len__(self):\n",
        "        return len(self.dataframe)\n",
        "\n",
        "    def __getitem__(self, idx):\n",
        "        row = self.dataframe.iloc[idx]\n",
        "        img_filename = row['videoname'].replace('.mp4', '.jpg')\n",
        "        img_path = os.path.join(self.image_dir, img_filename)\n",
        "\n",
        "        try:\n",
        "            # Load and preprocess image\n",
        "            image = cv2.imread(img_path)\n",
        "            image = cv2.cvtColor(image, cv2.COLOR_BGR2RGB)\n",
        "            image = cv2.resize(image, (IMG_SIZE, IMG_SIZE))\n",
        "\n",
        "            # Get handcrafted features BEFORE normalization\n",
        "            handcrafted_features = extract_features(image)\n",
        "            handcrafted_features = torch.from_numpy(handcrafted_features.astype(np.float32))\n",
        "\n",
        "            # Normalize image for the CNN\n",
        "            image = image.astype(np.float32) / 255.0\n",
        "            image = torch.from_numpy(image).permute(2, 0, 1)\n",
        "\n",
        "            label = 1 if row['label'] == 'FAKE' else 0\n",
        "            label = torch.tensor(label, dtype=torch.float32)\n",
        "\n",
        "            return image, handcrafted_features, label\n",
        "\n",
        "        except Exception as e:\n",
        "            # Return dummy data if an error occurs\n",
        "            return torch.zeros((3, IMG_SIZE, IMG_SIZE)), torch.zeros(HANDCRAFTED_FEATURE_DIM), torch.tensor(0.0)\n"
      ]
    },
    {
      "cell_type": "markdown",
      "metadata": {},
      "source": [
        "# 6. Training and Validation Code"
      ]
    },
    {
      "cell_type": "code",
      "execution_count": 18,
      "metadata": {},
      "outputs": [],
      "source": [
        "def run_epoch(model, loader, optimizer, criterion, is_training, device):\n",
        "    \"\"\"Runs a single epoch of training or validation.\"\"\"\n",
        "    model.train(is_training) # Set model to training or evaluation mode\n",
        "    total_loss, total_correct, total_samples = 0.0, 0, 0\n",
        "    \n",
        "    # Add a progress bar for better user experience\n",
        "    pbar = tqdm(loader, desc=\"Training\" if is_training else \"Validation\")\n",
        "\n",
        "    for images, features, labels in pbar:\n",
        "        images, features, labels = images.to(device), features.to(device), labels.to(device).unsqueeze(1)\n",
        "\n",
        "        with torch.set_grad_enabled(is_training):\n",
        "            outputs = model(images, features)\n",
        "            loss = criterion(outputs, labels)\n",
        "\n",
        "            if is_training:\n",
        "                optimizer.zero_grad()\n",
        "                loss.backward()\n",
        "                optimizer.step()\n",
        "\n",
        "        preds = (outputs > 0.5).float()\n",
        "        total_loss += loss.item() * images.size(0)\n",
        "        total_correct += (preds == labels).sum().item()\n",
        "        total_samples += labels.size(0)\n",
        "\n",
        "        # Update progress bar\n",
        "        pbar.set_postfix(loss=total_loss/total_samples, acc=total_correct/total_samples)\n",
        "\n",
        "    return total_loss / total_samples, total_correct / total_samples"
      ]
    },
    {
      "cell_type": "markdown",
      "metadata": {},
      "source": [
        "# 7. Main Training"
      ]
    },
    {
      "cell_type": "code",
      "execution_count": null,
      "metadata": {},
      "outputs": [
        {
          "name": "stdout",
          "output_type": "stream",
          "text": [
            "Image directory already exists.\n",
            "Using device: cuda\n",
            "\n",
            "--- Phase 1: Training Head Layers ---\n",
            "\n",
            "Epoch 1/10\n"
          ]
        },
        {
          "name": "stderr",
          "output_type": "stream",
          "text": [
            "Training: 100%|██████████| 1913/1913 [06:40<00:00,  4.78it/s, acc=0.814, loss=0.44] \n",
            "Validation: 100%|██████████| 479/479 [01:43<00:00,  4.62it/s, acc=0.833, loss=0.397]\n"
          ]
        },
        {
          "name": "stdout",
          "output_type": "stream",
          "text": [
            "\n",
            "Epoch 2/10\n"
          ]
        },
        {
          "name": "stderr",
          "output_type": "stream",
          "text": [
            "Training: 100%|██████████| 1913/1913 [07:24<00:00,  4.30it/s, acc=0.836, loss=0.402]\n",
            "Validation: 100%|██████████| 479/479 [01:23<00:00,  5.71it/s, acc=0.842, loss=0.387]\n"
          ]
        },
        {
          "name": "stdout",
          "output_type": "stream",
          "text": [
            "\n",
            "Epoch 3/10\n"
          ]
        },
        {
          "name": "stderr",
          "output_type": "stream",
          "text": [
            "Training: 100%|██████████| 1913/1913 [05:55<00:00,  5.38it/s, acc=0.839, loss=0.391]\n",
            "Validation: 100%|██████████| 479/479 [01:31<00:00,  5.26it/s, acc=0.84, loss=0.387] \n"
          ]
        },
        {
          "name": "stdout",
          "output_type": "stream",
          "text": [
            "\n",
            "Epoch 4/10\n"
          ]
        },
        {
          "name": "stderr",
          "output_type": "stream",
          "text": [
            "Training: 100%|██████████| 1913/1913 [06:10<00:00,  5.16it/s, acc=0.843, loss=0.383]\n",
            "Validation: 100%|██████████| 479/479 [01:31<00:00,  5.23it/s, acc=0.841, loss=0.387]\n"
          ]
        },
        {
          "name": "stdout",
          "output_type": "stream",
          "text": [
            "\n",
            "Epoch 5/10\n"
          ]
        },
        {
          "name": "stderr",
          "output_type": "stream",
          "text": [
            "Training: 100%|██████████| 1913/1913 [05:46<00:00,  5.52it/s, acc=0.846, loss=0.374]\n",
            "Validation: 100%|██████████| 479/479 [01:24<00:00,  5.67it/s, acc=0.849, loss=0.37] \n"
          ]
        },
        {
          "name": "stdout",
          "output_type": "stream",
          "text": [
            "\n",
            "Epoch 6/10\n"
          ]
        },
        {
          "name": "stderr",
          "output_type": "stream",
          "text": [
            "Training: 100%|██████████| 1913/1913 [05:36<00:00,  5.68it/s, acc=0.849, loss=0.366]\n",
            "Validation: 100%|██████████| 479/479 [01:24<00:00,  5.69it/s, acc=0.849, loss=0.392]\n"
          ]
        },
        {
          "name": "stdout",
          "output_type": "stream",
          "text": [
            "\n",
            "Epoch 7/10\n"
          ]
        },
        {
          "name": "stderr",
          "output_type": "stream",
          "text": [
            "Training: 100%|██████████| 1913/1913 [05:37<00:00,  5.67it/s, acc=0.852, loss=0.358]\n",
            "Validation: 100%|██████████| 479/479 [01:23<00:00,  5.73it/s, acc=0.854, loss=0.364]\n"
          ]
        },
        {
          "name": "stdout",
          "output_type": "stream",
          "text": [
            "\n",
            "Epoch 8/10\n"
          ]
        },
        {
          "name": "stderr",
          "output_type": "stream",
          "text": [
            "Training: 100%|██████████| 1913/1913 [05:27<00:00,  5.85it/s, acc=0.856, loss=0.35] \n",
            "Validation: 100%|██████████| 479/479 [01:22<00:00,  5.84it/s, acc=0.854, loss=0.355]\n"
          ]
        },
        {
          "name": "stdout",
          "output_type": "stream",
          "text": [
            "\n",
            "Epoch 9/10\n"
          ]
        },
        {
          "name": "stderr",
          "output_type": "stream",
          "text": [
            "Training: 100%|██████████| 1913/1913 [05:27<00:00,  5.84it/s, acc=0.86, loss=0.341] \n",
            "Validation: 100%|██████████| 479/479 [01:24<00:00,  5.66it/s, acc=0.855, loss=0.359]\n"
          ]
        },
        {
          "name": "stdout",
          "output_type": "stream",
          "text": [
            "\n",
            "Epoch 10/10\n"
          ]
        },
        {
          "name": "stderr",
          "output_type": "stream",
          "text": [
            "Training: 100%|██████████| 1913/1913 [05:35<00:00,  5.70it/s, acc=0.862, loss=0.333]\n",
            "Validation: 100%|██████████| 479/479 [01:24<00:00,  5.68it/s, acc=0.857, loss=0.352]\n"
          ]
        },
        {
          "name": "stdout",
          "output_type": "stream",
          "text": [
            "\n",
            "--- Phase 2: Fine-Tuning Full Model ---\n",
            "\n",
            "Epoch 11/25\n"
          ]
        },
        {
          "name": "stderr",
          "output_type": "stream",
          "text": [
            "Training: 100%|██████████| 1913/1913 [06:03<00:00,  5.26it/s, acc=0.874, loss=0.31] \n",
            "Validation: 100%|██████████| 479/479 [01:23<00:00,  5.70it/s, acc=0.869, loss=0.322]\n"
          ]
        },
        {
          "name": "stdout",
          "output_type": "stream",
          "text": [
            "\n",
            "Epoch 12/25\n"
          ]
        },
        {
          "name": "stderr",
          "output_type": "stream",
          "text": [
            "Training: 100%|██████████| 1913/1913 [06:44<00:00,  4.73it/s, acc=0.885, loss=0.283]\n",
            "Validation: 100%|██████████| 479/479 [01:36<00:00,  4.94it/s, acc=0.876, loss=0.303]\n"
          ]
        },
        {
          "name": "stdout",
          "output_type": "stream",
          "text": [
            "\n",
            "Epoch 13/25\n"
          ]
        },
        {
          "name": "stderr",
          "output_type": "stream",
          "text": [
            "Training: 100%|██████████| 1913/1913 [07:32<00:00,  4.23it/s, acc=0.894, loss=0.262]\n",
            "Validation: 100%|██████████| 479/479 [01:38<00:00,  4.88it/s, acc=0.882, loss=0.296]\n"
          ]
        },
        {
          "name": "stdout",
          "output_type": "stream",
          "text": [
            "\n",
            "Epoch 14/25\n"
          ]
        },
        {
          "name": "stderr",
          "output_type": "stream",
          "text": [
            "Training: 100%|██████████| 1913/1913 [07:45<00:00,  4.11it/s, acc=0.9, loss=0.247]  \n",
            "Validation: 100%|██████████| 479/479 [01:41<00:00,  4.73it/s, acc=0.885, loss=0.286]\n"
          ]
        },
        {
          "name": "stdout",
          "output_type": "stream",
          "text": [
            "\n",
            "Epoch 15/25\n"
          ]
        },
        {
          "name": "stderr",
          "output_type": "stream",
          "text": [
            "Training: 100%|██████████| 1913/1913 [07:41<00:00,  4.14it/s, acc=0.906, loss=0.233]\n",
            "Validation: 100%|██████████| 479/479 [01:36<00:00,  4.96it/s, acc=0.886, loss=0.289]\n"
          ]
        },
        {
          "name": "stdout",
          "output_type": "stream",
          "text": [
            "\n",
            "Epoch 16/25\n"
          ]
        },
        {
          "name": "stderr",
          "output_type": "stream",
          "text": [
            "Training: 100%|██████████| 1913/1913 [06:06<00:00,  5.22it/s, acc=0.912, loss=0.218]\n",
            "Validation: 100%|██████████| 479/479 [01:23<00:00,  5.74it/s, acc=0.891, loss=0.28] \n"
          ]
        },
        {
          "name": "stdout",
          "output_type": "stream",
          "text": [
            "\n",
            "Epoch 17/25\n"
          ]
        },
        {
          "name": "stderr",
          "output_type": "stream",
          "text": [
            "Training: 100%|██████████| 1913/1913 [06:22<00:00,  5.00it/s, acc=0.919, loss=0.204]\n",
            "Validation: 100%|██████████| 479/479 [01:26<00:00,  5.57it/s, acc=0.896, loss=0.269]\n"
          ]
        },
        {
          "name": "stdout",
          "output_type": "stream",
          "text": [
            "\n",
            "Epoch 18/25\n"
          ]
        },
        {
          "name": "stderr",
          "output_type": "stream",
          "text": [
            "Training: 100%|██████████| 1913/1913 [06:51<00:00,  4.65it/s, acc=0.924, loss=0.192]\n",
            "Validation: 100%|██████████| 479/479 [01:26<00:00,  5.56it/s, acc=0.898, loss=0.268]\n"
          ]
        },
        {
          "name": "stdout",
          "output_type": "stream",
          "text": [
            "\n",
            "Epoch 19/25\n"
          ]
        },
        {
          "name": "stderr",
          "output_type": "stream",
          "text": [
            "Training: 100%|██████████| 1913/1913 [06:55<00:00,  4.60it/s, acc=0.929, loss=0.179]\n",
            "Validation: 100%|██████████| 479/479 [01:30<00:00,  5.30it/s, acc=0.899, loss=0.27] \n"
          ]
        },
        {
          "name": "stdout",
          "output_type": "stream",
          "text": [
            "\n",
            "Epoch 20/25\n"
          ]
        },
        {
          "name": "stderr",
          "output_type": "stream",
          "text": [
            "Training: 100%|██████████| 1913/1913 [06:56<00:00,  4.59it/s, acc=0.934, loss=0.168]\n",
            "Validation: 100%|██████████| 479/479 [01:26<00:00,  5.54it/s, acc=0.901, loss=0.271]\n"
          ]
        },
        {
          "name": "stdout",
          "output_type": "stream",
          "text": [
            "\n",
            "Epoch 21/25\n"
          ]
        },
        {
          "name": "stderr",
          "output_type": "stream",
          "text": [
            "Training: 100%|██████████| 1913/1913 [06:55<00:00,  4.60it/s, acc=0.94, loss=0.156] \n",
            "Validation: 100%|██████████| 479/479 [01:30<00:00,  5.30it/s, acc=0.9, loss=0.266]  \n"
          ]
        },
        {
          "name": "stdout",
          "output_type": "stream",
          "text": [
            "\n",
            "Epoch 22/25\n"
          ]
        },
        {
          "name": "stderr",
          "output_type": "stream",
          "text": [
            "Training:  23%|██▎       | 441/1913 [01:36<05:23,  4.55it/s, acc=0.946, loss=0.14] \n"
          ]
        },
        {
          "ename": "KeyboardInterrupt",
          "evalue": "",
          "output_type": "error",
          "traceback": [
            "\u001b[31m---------------------------------------------------------------------------\u001b[39m",
            "\u001b[31mKeyboardInterrupt\u001b[39m                         Traceback (most recent call last)",
            "\u001b[36mCell\u001b[39m\u001b[36m \u001b[39m\u001b[32mIn[11]\u001b[39m\u001b[32m, line 272\u001b[39m\n\u001b[32m    270\u001b[39m \u001b[38;5;28;01mfor\u001b[39;00m epoch \u001b[38;5;129;01min\u001b[39;00m \u001b[38;5;28mrange\u001b[39m(EPOCHS_FT):\n\u001b[32m    271\u001b[39m     \u001b[38;5;28mprint\u001b[39m(\u001b[33mf\u001b[39m\u001b[33m\"\u001b[39m\u001b[38;5;130;01m\\n\u001b[39;00m\u001b[33mEpoch \u001b[39m\u001b[38;5;132;01m{\u001b[39;00mepoch+\u001b[32m1\u001b[39m+EPOCHS_HEAD\u001b[38;5;132;01m}\u001b[39;00m\u001b[33m/\u001b[39m\u001b[38;5;132;01m{\u001b[39;00mEPOCHS_HEAD+EPOCHS_FT\u001b[38;5;132;01m}\u001b[39;00m\u001b[33m\"\u001b[39m)\n\u001b[32m--> \u001b[39m\u001b[32m272\u001b[39m     train_loss, train_acc = \u001b[43mrun_epoch\u001b[49m\u001b[43m(\u001b[49m\u001b[43mmodel\u001b[49m\u001b[43m,\u001b[49m\u001b[43m \u001b[49m\u001b[43mtrain_loader\u001b[49m\u001b[43m,\u001b[49m\u001b[43m \u001b[49m\u001b[43moptimizer\u001b[49m\u001b[43m,\u001b[49m\u001b[43m \u001b[49m\u001b[43mcriterion\u001b[49m\u001b[43m,\u001b[49m\u001b[43m \u001b[49m\u001b[38;5;28;43;01mTrue\u001b[39;49;00m\u001b[43m,\u001b[49m\u001b[43m \u001b[49m\u001b[43mdevice\u001b[49m\u001b[43m)\u001b[49m\n\u001b[32m    273\u001b[39m     val_loss, val_acc = run_epoch(model, val_loader, \u001b[38;5;28;01mNone\u001b[39;00m, criterion, \u001b[38;5;28;01mFalse\u001b[39;00m, device)\n\u001b[32m    275\u001b[39m     history[\u001b[33m'\u001b[39m\u001b[33mtrain_loss\u001b[39m\u001b[33m'\u001b[39m].append(train_loss); history[\u001b[33m'\u001b[39m\u001b[33mtrain_acc\u001b[39m\u001b[33m'\u001b[39m].append(train_acc)\n",
            "\u001b[36mCell\u001b[39m\u001b[36m \u001b[39m\u001b[32mIn[11]\u001b[39m\u001b[32m, line 207\u001b[39m, in \u001b[36mrun_epoch\u001b[39m\u001b[34m(model, loader, optimizer, criterion, is_training, device)\u001b[39m\n\u001b[32m    204\u001b[39m         optimizer.step()\n\u001b[32m    206\u001b[39m preds = (outputs > \u001b[32m0.5\u001b[39m).float()\n\u001b[32m--> \u001b[39m\u001b[32m207\u001b[39m total_loss += \u001b[43mloss\u001b[49m\u001b[43m.\u001b[49m\u001b[43mitem\u001b[49m\u001b[43m(\u001b[49m\u001b[43m)\u001b[49m * images.size(\u001b[32m0\u001b[39m)\n\u001b[32m    208\u001b[39m total_correct += (preds == labels).sum().item()\n\u001b[32m    209\u001b[39m total_samples += labels.size(\u001b[32m0\u001b[39m)\n",
            "\u001b[31mKeyboardInterrupt\u001b[39m: "
          ]
        }
      ],
      "source": [
        "\n",
        "if __name__ == \"__main__\":\n",
        "    device = torch.device(\"cuda\" if torch.cuda.is_available() else \"cpu\")\n",
        "    print(f\"Using device: {device}\")\n",
        "\n",
        "    df = pd.read_csv(METADATA_FILE)\n",
        "    train_df, test_df = train_test_split(df, test_size=0.2, random_state=42, stratify=df['label'])\n",
        "    train_df, val_df = train_test_split(train_df, test_size=0.2, random_state=42, stratify=train_df['label'])\n",
        "\n",
        "    train_loader = DataLoader(DeepFakeDataset(train_df, IMAGE_DIR), batch_size=BATCH_SIZE, shuffle=True, num_workers=2)\n",
        "    val_loader = DataLoader(DeepFakeDataset(val_df, IMAGE_DIR), batch_size=BATCH_SIZE, shuffle=False, num_workers=2)\n",
        "    test_loader = DataLoader(DeepFakeDataset(test_df, IMAGE_DIR), batch_size=BATCH_SIZE, shuffle=False, num_workers=2)\n",
        "\n",
        "    model = DualBranchEfficientNet().to(device)\n",
        "    criterion = nn.BCELoss()\n",
        "\n",
        "    best_loss = float('inf')\n",
        "    early_stop_counter = 0\n",
        "    history = {'train_loss': [], 'train_acc': [], 'val_loss': [], 'val_acc': []}\n",
        "\n",
        "    # --- PHASE 1: Train Newly Added Layers ---\n",
        "    print(\"\\n--- Phase 1: Training Head Layers ---\")\n",
        "    # Optimize only the parameters that are not frozen\n",
        "    optimizer = optim.Adam(filter(lambda p: p.requires_grad, model.parameters()), lr=LEARNING_RATE_HEAD)\n",
        "\n",
        "    for epoch in range(EPOCHS_HEAD):\n",
        "        print(f\"\\nEpoch {epoch+1}/{EPOCHS_HEAD}\")\n",
        "        train_loss, train_acc = run_epoch(model, train_loader, optimizer, criterion, True, device)\n",
        "        val_loss, val_acc = run_epoch(model, val_loader, None, criterion, False, device)\n",
        "\n",
        "        history['train_loss'].append(train_loss); history['train_acc'].append(train_acc)\n",
        "        history['val_loss'].append(val_loss); history['val_acc'].append(val_acc)\n",
        "        \n",
        "        if val_loss < best_loss:\n",
        "            best_loss = val_loss\n",
        "            best_model_wts = copy.deepcopy(model.state_dict())\n",
        "            early_stop_counter = 0\n",
        "        else:\n",
        "            early_stop_counter += 1\n",
        "            if early_stop_counter >= PATIENCE:\n",
        "                print(\"Early stopping triggered in Phase 1.\")\n",
        "                break\n",
        "    \n",
        "    model.load_state_dict(best_model_wts)\n",
        "\n",
        "    # --- PHASE 2: Fine-Tune the Full Model ---\n",
        "    print(\"\\n--- Phase 2: Fine-Tuning Full Model ---\")\n",
        "    # Unfreeze the CNN backbone for fine-tuning\n",
        "    for param in model.cnn.parameters():\n",
        "        param.requires_grad = True\n",
        "    \n",
        "    # Create a new optimizer for ALL parameters with a lower learning rate\n",
        "    optimizer = optim.Adam(model.parameters(), lr=LEARNING_RATE_FT)\n",
        "    \n",
        "    for epoch in range(EPOCHS_FT):\n",
        "        print(f\"\\nEpoch {epoch+1+EPOCHS_HEAD}/{EPOCHS_HEAD+EPOCHS_FT}\")\n",
        "        train_loss, train_acc = run_epoch(model, train_loader, optimizer, criterion, True, device)\n",
        "        val_loss, val_acc = run_epoch(model, val_loader, None, criterion, False, device)\n",
        "        \n",
        "        history['train_loss'].append(train_loss); history['train_acc'].append(train_acc)\n",
        "        history['val_loss'].append(val_loss); history['val_acc'].append(val_acc)\n",
        "\n",
        "        if val_loss < best_loss:\n",
        "            best_loss = val_loss\n",
        "            best_model_wts = copy.deepcopy(model.state_dict())\n",
        "            early_stop_counter = 0\n",
        "        else:\n",
        "            early_stop_counter += 1\n",
        "            if early_stop_counter >= PATIENCE:\n",
        "                print(\"Early stopping triggered in Phase 2.\")\n",
        "                break\n",
        "\n",
        "    model.load_state_dict(best_model_wts)"
      ]
    },
    {
      "cell_type": "markdown",
      "metadata": {},
      "source": [
        "# 8. Evaluation & Saving"
      ]
    },
    {
      "cell_type": "code",
      "execution_count": null,
      "metadata": {},
      "outputs": [
        {
          "name": "stdout",
          "output_type": "stream",
          "text": [
            "\n",
            "--- Evaluating on Test Set ---\n"
          ]
        },
        {
          "name": "stderr",
          "output_type": "stream",
          "text": [
            "Validation: 100%|██████████| 598/598 [01:55<00:00,  5.16it/s, acc=0.901, loss=0.271]\n"
          ]
        },
        {
          "name": "stdout",
          "output_type": "stream",
          "text": [
            "Final Test Accuracy: 0.9008 | Final Test Loss: 0.2711\n",
            "\n",
            "Model saved to deepfake_detector_dual_branch.pth\n"
          ]
        },
        {
          "data": {
            "image/png": "[encoded data removed]",
            "text/plain": [
              "<Figure size 1200x500 with 2 Axes>"
            ]
          },
          "metadata": {},
          "output_type": "display_data"
        }
      ],
      "source": [
        "print(\"\\n--- Evaluating on Test Set ---\")\n",
        "test_loss, test_acc = run_epoch(model, test_loader, None, criterion, False, device)\n",
        "print(f\"Final Test Accuracy: {test_acc:.4f} | Final Test Loss: {test_loss:.4f}\")\n",
        "\n",
        "torch.save(model.state_dict(), MODEL_SAVE_PATH)\n",
        "print(f\"\\nModel saved to {MODEL_SAVE_PATH}\")\n",
        "\n",
        "# --- Plotting ---\n",
        "plt.figure(figsize=(12, 5))\n",
        "plt.subplot(1, 2, 1)\n",
        "plt.plot(history['train_acc'], label='Train Accuracy')\n",
        "plt.plot(history['val_acc'], label='Validation Accuracy')\n",
        "plt.title('Accuracy')\n",
        "plt.legend()\n",
        "plt.subplot(1, 2, 2)\n",
        "plt.plot(history['train_loss'], label='Train Loss')\n",
        "plt.plot(history['val_loss'], label='Validation Loss')\n",
        "plt.title('Loss')\n",
        "plt.legend()\n",
        "plt.tight_layout()\n",
        "plt.show()"
      ]
    },
    {
      "cell_type": "markdown",
      "metadata": {},
      "source": [
        "# 9. Predict Flow"
      ]
    },
    {
      "cell_type": "code",
      "execution_count": 13,
      "metadata": {},
      "outputs": [],
      "source": [
        "MODEL_SAVE_PATH = \"deepfake_detector_dual_branch.pth\"\n",
        "device = torch.device(\"cuda\" if torch.cuda.is_available() else \"cpu\")\n",
        "\n",
        "model = DualBranchEfficientNet().to(device)\n",
        "model.load_state_dict(torch.load(MODEL_SAVE_PATH, map_location=device))\n",
        "model.eval()\n",
        "\n",
        "\n",
        "# --- Inference Function ---\n",
        "def predict(image_path):\n",
        "    IMG_SIZE = 224\n",
        "\n",
        "    # Load and preprocess image\n",
        "    image = cv2.imread(image_path)\n",
        "    image = cv2.cvtColor(image, cv2.COLOR_BGR2RGB)\n",
        "    image = cv2.resize(image, (IMG_SIZE, IMG_SIZE))\n",
        "\n",
        "    # Extract handcrafted features\n",
        "    handcrafted_features = extract_features(image)\n",
        "    handcrafted_features = torch.from_numpy(handcrafted_features.astype(np.float32)).unsqueeze(0).to(device)\n",
        "\n",
        "    # Normalize image for CNN\n",
        "    image = image.astype(np.float32) / 255.0\n",
        "    image = torch.from_numpy(image).permute(2, 0, 1).unsqueeze(0).to(device)\n",
        "\n",
        "    # Forward pass\n",
        "    with torch.no_grad():\n",
        "        output = model(image, handcrafted_features)\n",
        "        prob = output.item()\n",
        "        label = \"FAKE\" if prob >= 0.5 else \"REAL\"\n",
        "    \n",
        "    return label, prob"
      ]
    },
    {
      "cell_type": "code",
      "execution_count": 14,
      "metadata": {},
      "outputs": [
        {
          "name": "stdout",
          "output_type": "stream",
          "text": [
            "Prediction: FAKE (confidence=0.9992)\n"
          ]
        }
      ],
      "source": [
        "img_path = \"content/faces_224/aaagqkcdis.jpg\"  # replace with your image path\n",
        "label, prob = predict(img_path)\n",
        "print(f\"Prediction: {label} (confidence={prob:.4f})\")"
      ]
    },
    {
      "cell_type": "code",
      "execution_count": 1,
      "metadata": {},
      "outputs": [
        {
          "name": "stdout",
          "output_type": "stream",
          "text": [
            "Python: 3.13.5 (main, Jun 21 2025, 09:35:00) [GCC 15.1.1 20250425]\n",
            "pandas: 2.3.2\n",
            "numpy: 2.2.6\n",
            "opencv (cv2): 4.12.0\n",
            "torch: 2.8.0+cu128\n",
            "torchvision: 0.23.0+cu128\n",
            "scikit-learn: 1.7.1\n",
            "scikit-image: 0.25.2\n",
            "matplotlib: 3.10.5\n",
            "tqdm: 4.67.1\n"
          ]
        }
      ],
      "source": [
        "import os\n",
        "import zipfile\n",
        "import pandas as pd\n",
        "import numpy as np\n",
        "import cv2\n",
        "import torch\n",
        "import torch.nn as nn\n",
        "import torch.optim as optim\n",
        "from torch.utils.data import Dataset, DataLoader\n",
        "from torchvision.models import efficientnet_b0, EfficientNet_B0_Weights\n",
        "from sklearn.model_selection import train_test_split\n",
        "from skimage.feature import local_binary_pattern\n",
        "import matplotlib\n",
        "import copy\n",
        "from tqdm import tqdm\n",
        "\n",
        "# --- Print versions ---\n",
        "print(\"Python:\", os.sys.version)\n",
        "print(\"pandas:\", pd.__version__)\n",
        "print(\"numpy:\", np.__version__)\n",
        "print(\"opencv (cv2):\", cv2.__version__)\n",
        "print(\"torch:\", torch.__version__)\n",
        "print(\"torchvision:\", __import__('torchvision').__version__)\n",
        "print(\"scikit-learn:\", __import__('sklearn').__version__)\n",
        "print(\"scikit-image:\", __import__('skimage').__version__)\n",
        "print(\"matplotlib:\", matplotlib.__version__)\n",
        "print(\"tqdm:\", __import__('tqdm').__version__)\n"
      ]
    }
  ],
  "metadata": {
    "accelerator": "GPU",
    "colab": {
      "gpuType": "T4",
      "provenance": []
    },
    "kernelspec": {
      "display_name": "venv",
      "language": "python",
      "name": "python3"
    },
    "language_info": {
      "codemirror_mode": {
        "name": "ipython",
        "version": 3
      },
      "file_extension": ".py",
      "mimetype": "text/x-python",
      "name": "python",
      "nbconvert_exporter": "python",
      "pygments_lexer": "ipython3",
      "version": "3.13.5"
    }
  },
  "nbformat": 4,
  "nbformat_minor": 0
}
